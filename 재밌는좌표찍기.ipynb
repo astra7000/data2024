{
  "nbformat": 4,
  "nbformat_minor": 0,
  "metadata": {
    "colab": {
      "provenance": [],
      "authorship_tag": "ABX9TyNnM7Axnt6RCy6HskdJ+3m5",
      "include_colab_link": true
    },
    "kernelspec": {
      "name": "python3",
      "display_name": "Python 3"
    },
    "language_info": {
      "name": "python"
    }
  },
  "cells": [
    {
      "cell_type": "markdown",
      "metadata": {
        "id": "view-in-github",
        "colab_type": "text"
      },
      "source": [
        "<a href=\"https://colab.research.google.com/github/astra7000/data2024/blob/main/%EC%9E%AC%EB%B0%8C%EB%8A%94%EC%A2%8C%ED%91%9C%EC%B0%8D%EA%B8%B0.ipynb\" target=\"_parent\"><img src=\"https://colab.research.google.com/assets/colab-badge.svg\" alt=\"Open In Colab\"/></a>"
      ]
    },
    {
      "cell_type": "code",
      "execution_count": null,
      "metadata": {
        "id": "C5SoZMJ6OATy"
      },
      "outputs": [],
      "source": [
        "# colab에서 만든 파일"
      ]
    }
  ]
}